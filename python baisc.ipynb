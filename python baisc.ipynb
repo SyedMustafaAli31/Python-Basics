{
 "cells": [
  {
   "cell_type": "markdown",
   "id": "34fadb60-0586-49bd-b4ea-1cb7d2775545",
   "metadata": {},
   "source": [
    "## What is Python, and why is it popular?"
   ]
  },
  {
   "cell_type": "code",
   "execution_count": 1,
   "id": "60f65b9e-54f1-47e7-965d-6b1bc04e7264",
   "metadata": {},
   "outputs": [],
   "source": [
    "# Python is a high-level, interpreted programming language known for its simplicity and readability. It was created by Guido van Rossum and first released in 1991. Python emphasizes code readability and allows developers to express concepts in fewer lines of code compared to other languages like C++ or Java. It supports multiple programming paradigms, including procedural, object-oriented, and functional programming."
   ]
  },
  {
   "cell_type": "markdown",
   "id": "c78e2389-cdf0-4a1d-b5a9-bfaa73e2e822",
   "metadata": {},
   "source": [
    "# What is an interpreter in Python"
   ]
  },
  {
   "cell_type": "raw",
   "id": "01e15aab-8546-411d-be38-cc476d5d2de6",
   "metadata": {},
   "source": [
    "# An interpreter in Python is a program that reads and executes Python code directly, line by line. Unlike compiled languages (e.g., C or C++), where the source code is first converted into machine code by a compiler, Python uses an interpreter to execute code directly without a separate compilation step. \n",
    "1. Reads the Code:\n",
    "The interpreter reads the Python source code (.py files) line by line.\n",
    "2. Parses the Code:\n",
    "It parses the code into an intermediate form called bytecode. This bytecode is a low-level, platform-independent representation of the source code.\n",
    "3. Executes the Bytecode:\n",
    "The interpreter then executes the bytecode using the Python Virtual Machine (PVM). The PVM is the runtime engine of Python that translates bytecode into machine-specific instructions for the CPU to execute.\n",
    "4. Outputs the Result:\n",
    "The interpreter displays the output of the program or executes the intended operations."
   ]
  },
  {
   "cell_type": "markdown",
   "id": "10532310-10d6-41a5-87d0-d00072868d41",
   "metadata": {},
   "source": [
    "# 3. What are pre-defined keywords in Python "
   ]
  },
  {
   "cell_type": "raw",
   "id": "2ec89a00-5248-41a6-9bf6-4b496b232eb1",
   "metadata": {},
   "source": [
    "# Pre-defined keywords in Python are reserved words that have special meanings and purposes in the language. These keywords are part of Python's syntax and cannot be used as identifiers (e.g., variable names, function names, or class names). They are used to define the structure and logic of Python programs.\n",
    "1. Reserved: Keywords are reserved for specific purposes and cannot be redefined or used for other purposes.\n",
    "2. Case-Sensitive: All keywords are in lowercase (e.g., if, while, def).\n",
    "3. Fixed Set: The list of keywords is predefined and does not change unless new versions of Python introduce or remove keywords.\n"
   ]
  },
  {
   "cell_type": "markdown",
   "id": "28411af7-2a20-4f44-b50c-7558d8da0a0b",
   "metadata": {},
   "source": [
    "# 4 Can keywords be used as variable names?"
   ]
  },
  {
   "cell_type": "raw",
   "id": "8708630d-6ec5-4a9f-be2f-3a94cdf1dbb9",
   "metadata": {},
   "source": [
    "# No, keywords cannot be used as variable names (or any other identifiers like function names, class names, etc.) in Python. Keywords are reserved words that have special meanings and are part of the Python language syntax. Using them as variable names will result in a SyntaxError"
   ]
  },
  {
   "cell_type": "markdown",
   "id": "f066ec4d-dcb6-4926-8eda-13145b8b8d1b",
   "metadata": {},
   "source": [
    "# 5. What is mutability in Python "
   ]
  },
  {
   "cell_type": "raw",
   "id": "9f467618-0542-4b5f-bc9c-348ccb694ef3",
   "metadata": {},
   "source": [
    "Mutability in Python refers to whether an object's value can be changed after it is created."
   ]
  },
  {
   "cell_type": "markdown",
   "id": "20881acf-8acd-40f1-84a5-b8d91ea76490",
   "metadata": {},
   "source": [
    "# 6. Why are lists mutable, but tuples are immutable?"
   ]
  },
  {
   "cell_type": "raw",
   "id": "c0f9665b-dc63-4426-9481-4aa0560e9df7",
   "metadata": {},
   "source": [
    "The distinction between lists (mutable) and tuples (immutable) in Python is intentional and serves specific purposes in the language.\n",
    "1. Lists: Mutable, flexible, for changing data.\n",
    "2. Tuples: Immutable, efficient, for fixed data."
   ]
  },
  {
   "cell_type": "markdown",
   "id": "552d586c-ea99-46bb-8e3f-4bcd2c82da8d",
   "metadata": {},
   "source": [
    "# 7. What is the difference between “==” and “is” operators in Python \n"
   ]
  },
  {
   "cell_type": "raw",
   "id": "7e7124a6-3abe-4668-92b5-5011b70f934f",
   "metadata": {},
   "source": [
    "==: Compares values of two objects.\n",
    "is: Compares identity (memory location) of two objects.\n",
    "Use == for value equality, and is to check if two references point to the same object."
   ]
  },
  {
   "cell_type": "markdown",
   "id": "e7fb76d8-0494-46c6-9924-a6f683948a89",
   "metadata": {},
   "source": [
    "# 8. What are logical operators in Python "
   ]
  },
  {
   "cell_type": "raw",
   "id": "e9495e22-49cd-4a0d-8b2b-429a3ec64745",
   "metadata": {},
   "source": [
    "In Python, logical operators are used to combine conditional statements and return a boolean value (True or False). The main logical operators are:"
   ]
  },
  {
   "cell_type": "markdown",
   "id": "46ecaf67-f812-4ac8-8c66-41b3c29c467c",
   "metadata": {},
   "source": [
    "# 9. What is type casting in Python "
   ]
  },
  {
   "cell_type": "raw",
   "id": "44f3c978-0474-4c28-a8a2-06c6cf1fd6b7",
   "metadata": {},
   "source": [
    "Type casting in Python is the process of converting one data type to another. It can be done automatically (implicit casting) by Python or manually (explicit casting) by the programmer using functions like int(), float(), or str(). It allows you to ensure that the data types of variables match the requirements for specific operations."
   ]
  },
  {
   "cell_type": "markdown",
   "id": "c418535a-c1ee-466d-ac1f-5eb080e222a3",
   "metadata": {},
   "source": [
    "# 10. What is the difference between implicit and explicit type casting"
   ]
  },
  {
   "cell_type": "raw",
   "id": "5640744a-04c4-452c-abeb-581187bda5e8",
   "metadata": {},
   "source": [
    "The difference between implicit and explicit type casting is:\n",
    "Implicit Type Casting:\n",
    "Automatic conversion by Python.\n",
    "Happens when Python automatically converts a smaller data type to a larger one (e.g., from int to float).\n",
    "No user intervention is required.\n",
    "Explicit Type Casting:\n",
    "Manual conversion by the programmer.\n",
    "The programmer uses functions like int(), float(), or str() to convert a value to a specific type.\n",
    "Requires user input to specify the desired conversion."
   ]
  },
  {
   "cell_type": "markdown",
   "id": "f9a22bc4-c70d-460e-a3b4-ed55ee862ec6",
   "metadata": {},
   "source": [
    "# 11. What is the purpose of conditional statements in Python "
   ]
  },
  {
   "cell_type": "raw",
   "id": "fd4e097c-f60f-4985-bdc6-8537afb8758a",
   "metadata": {},
   "source": [
    "The purpose of conditional statements in Python is to control the flow of execution based on whether a condition is True or False. They allow the program to make decisions and execute different code depending on the conditions"
   ]
  },
  {
   "cell_type": "markdown",
   "id": "bbdbacd7-efbd-4430-91de-2313ce07ca4b",
   "metadata": {},
   "source": [
    "# 12. How does the elif statement work?"
   ]
  },
  {
   "cell_type": "raw",
   "id": "588157f9-2e64-4c29-85a8-5e8be6b04ddb",
   "metadata": {},
   "source": [
    "The elif (short for \"else if\") statement in Python is used to check multiple conditions when the initial if condition is False. It provides a way to test additional conditions after an if statement, ensuring that only one block of code is executed based on the conditions."
   ]
  },
  {
   "cell_type": "markdown",
   "id": "523ac81d-1de8-4615-87be-7ac708cae633",
   "metadata": {},
   "source": [
    "# 13. What is the difference between for and while loops"
   ]
  },
  {
   "cell_type": "raw",
   "id": "60c0ea6d-75da-402d-becb-f13ed57e4885",
   "metadata": {},
   "source": [
    "Difference Between for and while Loops in Python\n",
    "Both for and while loops are used for iteration, but they serve different purposes and are used in different scenarios. Here's a breakdown of their differences:\n",
    "1. Purpose:\n",
    "for Loop:\n",
    "Used when you know how many times you want to iterate (e.g., iterating over a sequence like a list, tuple, or range).\n",
    "while Loop:\n",
    "Used when you want to repeat a block of code as long as a condition is true (e.g., repeating until a specific condition is met)."
   ]
  },
  {
   "cell_type": "markdown",
   "id": "02a6f642-3bb7-41c4-8ea7-a08891df05a3",
   "metadata": {},
   "source": [
    "# 14. Describe a scenario where a while loop is more suitable than a for loop"
   ]
  },
  {
   "cell_type": "raw",
   "id": "0e868bcb-6a09-4519-ad41-2c052cca3f86",
   "metadata": {},
   "source": [
    "A while loop is more suitable than a for loop when the number of iterations is not known in advance and depends on a dynamic condition that is evaluated during runtime. Here’s a scenario where a while loop is the better choice:\n",
    "Scenario: User Input Validation\n",
    "You are writing a program that asks the user to enter a positive number. The program should keep asking for input until the user provides a valid positive number.\n",
    "Why a while Loop is Suitable:\n",
    "The number of attempts is unknown (the user might enter invalid input multiple times).\n",
    "The loop must continue until a specific condition is met (valid input is provided).\n",
    "\n"
   ]
  },
  {
   "cell_type": "markdown",
   "id": "d0dfc123-2eb4-4242-8a7f-e33d3c065d29",
   "metadata": {},
   "source": [
    "# Practical Questions"
   ]
  },
  {
   "cell_type": "markdown",
   "id": "a285258a-1214-404d-bd69-c6dfdd312364",
   "metadata": {},
   "source": [
    "# 1. Write a Python program to print \"Hello, World!"
   ]
  },
  {
   "cell_type": "code",
   "execution_count": 6,
   "id": "c0dcf8c8-3fbd-494c-a5a2-3ef35d97a814",
   "metadata": {},
   "outputs": [
    {
     "name": "stdout",
     "output_type": "stream",
     "text": [
      "Hello, World!\n"
     ]
    }
   ],
   "source": [
    "print(\"Hello, World!\")"
   ]
  },
  {
   "cell_type": "markdown",
   "id": "7d2b50ca-78e7-480f-a410-d76ac24f985c",
   "metadata": {},
   "source": [
    "# 2. Write a Python program that displays your name and age"
   ]
  },
  {
   "cell_type": "code",
   "execution_count": 8,
   "id": "7137b604-89df-4498-8660-7423da4371b6",
   "metadata": {},
   "outputs": [
    {
     "name": "stdin",
     "output_type": "stream",
     "text": [
      "Enter your name syed mustafa ali\n",
      "Enter your age 25\n"
     ]
    },
    {
     "name": "stdout",
     "output_type": "stream",
     "text": [
      "your syed mustafa ali and your age 25\n"
     ]
    }
   ],
   "source": [
    "name = input(\"Enter your name\")\n",
    "age = int(input(\"Enter your age\"))\n",
    "print(f\"your name {name} and your age {age}\")"
   ]
  },
  {
   "cell_type": "markdown",
   "id": "c18bba6e-81c9-4549-bf9f-6499ba9c39ad",
   "metadata": {},
   "source": [
    "# 3.  Write code to print all the pre-defined keywords in Python using the keyword library"
   ]
  },
  {
   "cell_type": "code",
   "execution_count": 9,
   "id": "f2b06879-188e-4e56-b3d6-ee0f080cd680",
   "metadata": {},
   "outputs": [
    {
     "name": "stdout",
     "output_type": "stream",
     "text": [
      "False\n",
      "None\n",
      "True\n",
      "and\n",
      "as\n",
      "assert\n",
      "async\n",
      "await\n",
      "break\n",
      "class\n",
      "continue\n",
      "def\n",
      "del\n",
      "elif\n",
      "else\n",
      "except\n",
      "finally\n",
      "for\n",
      "from\n",
      "global\n",
      "if\n",
      "import\n",
      "in\n",
      "is\n",
      "lambda\n",
      "nonlocal\n",
      "not\n",
      "or\n",
      "pass\n",
      "raise\n",
      "return\n",
      "try\n",
      "while\n",
      "with\n",
      "yield\n"
     ]
    }
   ],
   "source": [
    "import keyword\n",
    "\n",
    "# Get the list of all keywords\n",
    "keywords = keyword.kwlist\n",
    "\n",
    "# Print each keyword\n",
    "for kw in keywords:\n",
    "    print(kw)"
   ]
  },
  {
   "cell_type": "markdown",
   "id": "abc85f3a-4da2-490e-bb2c-065ab0ca7bff",
   "metadata": {},
   "source": [
    "# 4. Write a program that checks if a given word is a Python keyword.\n"
   ]
  },
  {
   "cell_type": "code",
   "execution_count": 10,
   "id": "98e7e963-064f-471b-9bbd-be9b89bc4dde",
   "metadata": {},
   "outputs": [
    {
     "name": "stdin",
     "output_type": "stream",
     "text": [
      "Enter a word:  mustafa\n"
     ]
    },
    {
     "name": "stdout",
     "output_type": "stream",
     "text": [
      "'mustafa' is not a Python keyword.\n"
     ]
    }
   ],
   "source": [
    "import keyword\n",
    "\n",
    "word = input(\"Enter a word: \")\n",
    "\n",
    "if keyword.iskeyword(word):\n",
    "    print(f\"'{word}' is a Python keyword.\")\n",
    "else:\n",
    "    print(f\"'{word}' is not a Python keyword.\")\n"
   ]
  },
  {
   "cell_type": "markdown",
   "id": "d10a952d-cf7c-4363-8f09-f874d4366301",
   "metadata": {},
   "source": [
    "# 5.  Create a list and tuple in Python, and demonstrate how attempting to change an element works differently for each"
   ]
  },
  {
   "cell_type": "code",
   "execution_count": 11,
   "id": "72d64758-a3c4-4926-8427-301aee6f1366",
   "metadata": {},
   "outputs": [
    {
     "name": "stdout",
     "output_type": "stream",
     "text": [
      "Updated list: [1, 2, 10, 4]\n",
      "Error: 'tuple' object does not support item assignment\n"
     ]
    }
   ],
   "source": [
    "# Creating a list and a tuple\n",
    "my_list = [1, 2, 3, 4]\n",
    "my_tuple = (1, 2, 3, 4)\n",
    "\n",
    "# Attempting to change an element in the list (works fine)\n",
    "my_list[2] = 10\n",
    "print(\"Updated list:\", my_list)\n",
    "\n",
    "# Attempting to change an element in the tuple (raises an error)\n",
    "try:\n",
    "    my_tuple[2] = 10\n",
    "except TypeError as e:\n",
    "    print(\"Error:\", e)\n"
   ]
  },
  {
   "cell_type": "markdown",
   "id": "490f4387-45f8-4a82-800d-0ca077d75959",
   "metadata": {},
   "source": [
    "# 6. Write a function to demonstrate the behavior of mutable and immutable arguments"
   ]
  },
  {
   "cell_type": "code",
   "execution_count": 12,
   "id": "024b4dba-192e-4739-b5df-a9e8c1508f78",
   "metadata": {},
   "outputs": [
    {
     "name": "stdout",
     "output_type": "stream",
     "text": [
      "Modified mutable argument: [1, 2, 3, 100]\n",
      "Modified immutable argument: 15\n"
     ]
    }
   ],
   "source": [
    "def demonstrate_mutable_immutable(mutable_arg, immutable_arg):\n",
    "    # Modifying mutable argument (list)\n",
    "    mutable_arg.append(100)\n",
    "    \n",
    "    # Trying to modify immutable argument (integer)\n",
    "    try:\n",
    "        immutable_arg += 10\n",
    "    except TypeError as e:\n",
    "        print(\"Error trying to modify immutable argument:\", e)\n",
    "    \n",
    "    print(\"Modified mutable argument:\", mutable_arg)\n",
    "    print(\"Modified immutable argument:\", immutable_arg)\n",
    "\n",
    "# Test the function\n",
    "my_list = [1, 2, 3]\n",
    "my_number = 5\n",
    "\n",
    "demonstrate_mutable_immutable(my_list, my_number)\n"
   ]
  },
  {
   "cell_type": "markdown",
   "id": "727c4841-7173-480f-a5d8-58c5aa167b1d",
   "metadata": {},
   "source": [
    "# 7. Write a program that performs basic arithmetic operations on two user-input numbers"
   ]
  },
  {
   "cell_type": "code",
   "execution_count": 13,
   "id": "f3f5b47c-fa24-4296-abeb-d8c838f93dd8",
   "metadata": {},
   "outputs": [
    {
     "name": "stdin",
     "output_type": "stream",
     "text": [
      "Enter your Fisrt 80\n",
      "Enter your second 90\n"
     ]
    },
    {
     "name": "stdout",
     "output_type": "stream",
     "text": [
      "your total number is  170\n"
     ]
    }
   ],
   "source": [
    "num = int(input(\"Enter your Fisrt\"))\n",
    "num2 = int(input(\"Enter your second\"))\n",
    "print(\"your total number is \", num+num2)"
   ]
  },
  {
   "cell_type": "markdown",
   "id": "749da1d8-8bb0-4861-b58b-249f4d3bd4a1",
   "metadata": {},
   "source": [
    "# 8. Write a program to demonstrate the use of logical operators"
   ]
  },
  {
   "cell_type": "code",
   "execution_count": 14,
   "id": "6fc32346-4f71-4f43-a8f1-14ac962ce1ec",
   "metadata": {},
   "outputs": [
    {
     "name": "stdout",
     "output_type": "stream",
     "text": [
      "Both conditions are True (x > y and z > x)\n",
      "At least one condition is True (x > y or y > z)\n",
      "Condition (not x < y) is True, because x is not less than y\n"
     ]
    }
   ],
   "source": [
    "# Program to demonstrate the use of logical operators\n",
    "\n",
    "x = 10\n",
    "y = 5\n",
    "z = 20\n",
    "\n",
    "# Using 'and' logical operator\n",
    "if x > y and z > x:\n",
    "    print(\"Both conditions are True (x > y and z > x)\")\n",
    "\n",
    "# Using 'or' logical operator\n",
    "if x > y or y > z:\n",
    "    print(\"At least one condition is True (x > y or y > z)\")\n",
    "\n",
    "# Using 'not' logical operator\n",
    "if not x < y:\n",
    "    print(\"Condition (not x < y) is True, because x is not less than y\")\n"
   ]
  },
  {
   "cell_type": "markdown",
   "id": "a57023e9-6d26-4bbc-95f6-c6ce6cbd6c84",
   "metadata": {},
   "source": [
    "# 9.  Write a Python program to convert user input from string to integer, float, and boolean types."
   ]
  },
  {
   "cell_type": "code",
   "execution_count": 15,
   "id": "e2d50aef-acbc-403c-b4a8-39b7fa28f1be",
   "metadata": {},
   "outputs": [
    {
     "name": "stdin",
     "output_type": "stream",
     "text": [
      "enter your value mustafa\n"
     ]
    },
    {
     "name": "stdout",
     "output_type": "stream",
     "text": [
      "error to not coverted\n",
      "error to not coverted\n",
      "Converted to boolean: True\n"
     ]
    }
   ],
   "source": [
    "user_value = input(\"enter your value\")\n",
    "try:\n",
    "    int_value = int(user_value)\n",
    "    print(\"coverted to interger\", int_value)\n",
    "except ValueError:\n",
    "    print(\"error to not coverted\")\n",
    "try:\n",
    "    float_value = float(user_value)\n",
    "    print(\"coverted to float\", float_value)\n",
    "except ValueError:\n",
    "    print(\"error to not coverted\")\n",
    "    \n",
    "bool_value = bool(user_value)\n",
    "print(\"Converted to boolean:\", bool_value)\n"
   ]
  },
  {
   "cell_type": "markdown",
   "id": "7b77d090-b506-4037-90b9-bc43b32ee6ef",
   "metadata": {},
   "source": [
    "# 10.  Write code to demonstrate type casting with list elements"
   ]
  },
  {
   "cell_type": "code",
   "execution_count": 16,
   "id": "59646239-1997-426b-bba3-9dc0a175015e",
   "metadata": {},
   "outputs": [
    {
     "name": "stdout",
     "output_type": "stream",
     "text": [
      "List with elements cast to integers: [1, 2, 3, 1]\n",
      "List with elements cast to floats: [1.0, 2.0, 3.0, 1.0]\n",
      "List with elements cast to strings: ['1', '2', '3.0', 'True']\n",
      "List with elements cast to booleans: [True, True, True, True]\n"
     ]
    }
   ],
   "source": [
    "# Demonstrating type casting with list elements\n",
    "\n",
    "# Initial list with mixed data types\n",
    "my_list = [1, \"2\", 3.0, True]\n",
    "\n",
    "# Converting all elements to integers\n",
    "int_list = [int(item) if isinstance(item, (int, float, bool)) else int(float(item)) for item in my_list]\n",
    "print(\"List with elements cast to integers:\", int_list)\n",
    "\n",
    "# Converting all elements to floats\n",
    "float_list = [float(item) for item in my_list]\n",
    "print(\"List with elements cast to floats:\", float_list)\n",
    "\n",
    "# Converting all elements to strings\n",
    "str_list = [str(item) for item in my_list]\n",
    "print(\"List with elements cast to strings:\", str_list)\n",
    "\n",
    "# Converting all elements to booleans\n",
    "bool_list = [bool(item) for item in my_list]\n",
    "print(\"List with elements cast to booleans:\", bool_list)\n"
   ]
  },
  {
   "cell_type": "markdown",
   "id": "a17030a8-0452-473b-a5d1-1ecdc602ec20",
   "metadata": {},
   "source": [
    "# 11.  Write a program that checks if a number is positive, negative, or zero"
   ]
  },
  {
   "cell_type": "code",
   "execution_count": 17,
   "id": "4eebdc6a-a23b-41fd-b23e-e03c4b0223cc",
   "metadata": {},
   "outputs": [
    {
     "name": "stdin",
     "output_type": "stream",
     "text": [
      "Enter a number:  9\n"
     ]
    },
    {
     "name": "stdout",
     "output_type": "stream",
     "text": [
      "The number is positive.\n"
     ]
    }
   ],
   "source": [
    "# Program to check if a number is positive, negative, or zero\n",
    "\n",
    "# Taking input from the user\n",
    "num6 = float(input(\"Enter a number: \"))\n",
    "\n",
    "# Checking the condition\n",
    "if num6 > 0:\n",
    "    print(\"The number is positive.\")\n",
    "elif num6 < 0:\n",
    "    print(\"The number is negative.\")\n",
    "else:\n",
    "    print(\"The number is zero.\")\n"
   ]
  },
  {
   "cell_type": "markdown",
   "id": "5d5ab7c4-07d3-42e8-8cf7-3fba266268a4",
   "metadata": {},
   "source": [
    "# 12. Write a for loop to print numbers from 1 to 10"
   ]
  },
  {
   "cell_type": "code",
   "execution_count": 21,
   "id": "3edbc119-af1b-4b71-9f66-77bca9b24a4d",
   "metadata": {},
   "outputs": [
    {
     "name": "stdout",
     "output_type": "stream",
     "text": [
      "1\n",
      "2\n",
      "3\n",
      "4\n",
      "5\n",
      "6\n",
      "7\n",
      "8\n",
      "9\n",
      "10\n"
     ]
    }
   ],
   "source": [
    "for i in range(1,11):\n",
    "    print(i)"
   ]
  },
  {
   "cell_type": "markdown",
   "id": "10df1728-cd1a-46a4-aa9d-3604f01f5d29",
   "metadata": {},
   "source": [
    "# 13.  Write a Python program to find the sum of all even numbers between 1 and 50"
   ]
  },
  {
   "cell_type": "code",
   "execution_count": 22,
   "id": "fbf486fb-4232-4e17-81a2-062397b6d215",
   "metadata": {},
   "outputs": [
    {
     "name": "stdout",
     "output_type": "stream",
     "text": [
      "Sum of all even numbers between 1 and 50: 650\n"
     ]
    }
   ],
   "source": [
    "# Program to find the sum of all even numbers between 1 and 50\n",
    "\n",
    "sum_of_evens = 0\n",
    "\n",
    "for num in range(2, 51, 2):  # Start from 2, step by 2 to get even numbers\n",
    "    sum_of_evens += num\n",
    "\n",
    "print(\"Sum of all even numbers between 1 and 50:\", sum_of_evens)\n"
   ]
  },
  {
   "cell_type": "markdown",
   "id": "345f3d1b-8db4-4f41-a1b6-1a7414366045",
   "metadata": {},
   "source": [
    "# 14. Write a program to reverse a string using a while loop"
   ]
  },
  {
   "cell_type": "code",
   "execution_count": 23,
   "id": "06effe0e-fc2a-490c-a3b5-a8faf37b2378",
   "metadata": {},
   "outputs": [
    {
     "name": "stdin",
     "output_type": "stream",
     "text": [
      "Enter a string:  mustafa\n"
     ]
    },
    {
     "name": "stdout",
     "output_type": "stream",
     "text": [
      "Reversed string: afatsum\n"
     ]
    }
   ],
   "source": [
    "# Program to reverse a string using a while loop\n",
    "\n",
    "# Taking input from the user\n",
    "input_string = input(\"Enter a string: \")\n",
    "\n",
    "# Initializing variables\n",
    "reversed_string = \"\"\n",
    "index = len(input_string) - 1\n",
    "\n",
    "# Reversing the string using a while loop\n",
    "while index >= 0:\n",
    "    reversed_string += input_string[index]\n",
    "    index -= 1\n",
    "\n",
    "print(\"Reversed string:\", reversed_string)\n"
   ]
  },
  {
   "cell_type": "code",
   "execution_count": null,
   "id": "e87192e5-9242-43d5-826a-bc1c080d9c81",
   "metadata": {},
   "outputs": [],
   "source": []
  }
 ],
 "metadata": {
  "kernelspec": {
   "display_name": "Python 3 (ipykernel)",
   "language": "python",
   "name": "python3"
  },
  "language_info": {
   "codemirror_mode": {
    "name": "ipython",
    "version": 3
   },
   "file_extension": ".py",
   "mimetype": "text/x-python",
   "name": "python",
   "nbconvert_exporter": "python",
   "pygments_lexer": "ipython3",
   "version": "3.12.6"
  }
 },
 "nbformat": 4,
 "nbformat_minor": 5
}
